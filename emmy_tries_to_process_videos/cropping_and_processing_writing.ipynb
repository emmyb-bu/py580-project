{
 "cells": [
  {
   "cell_type": "code",
   "execution_count": 1,
   "metadata": {},
   "outputs": [],
   "source": [
    "using FileIO, Images, VideoIO"
   ]
  },
  {
   "cell_type": "code",
   "execution_count": 2,
   "metadata": {},
   "outputs": [
    {
     "data": {
      "text/plain": [
       "VideoReader(...)"
      ]
     },
     "execution_count": 2,
     "metadata": {},
     "output_type": "execute_result"
    }
   ],
   "source": [
    "vid = VideoIO.openvideo(\"../Cu_Current_3.mp4\")"
   ]
  },
  {
   "cell_type": "code",
   "execution_count": 4,
   "metadata": {},
   "outputs": [
    {
     "ename": "LoadError",
     "evalue": "ArgumentError: Sampler for this object is not defined",
     "output_type": "error",
     "traceback": [
      "ArgumentError: Sampler for this object is not defined",
      "",
      "Stacktrace:",
      " [1] Random.Sampler(#unused#::Type{Random.TaskLocalRNG}, sp::Random.SamplerTrivial{VideoIO.VideoReader{true, VideoIO.SwsTransform, String}, Any}, #unused#::Val{1})",
      "   @ Random /Applications/Julia-1.7.2.app/Contents/Resources/julia/share/julia/stdlib/v1.7/Random/src/Random.jl:146",
      " [2] Random.Sampler(rng::Random.TaskLocalRNG, x::Random.SamplerTrivial{VideoIO.VideoReader{true, VideoIO.SwsTransform, String}, Any}, r::Val{1})",
      "   @ Random /Applications/Julia-1.7.2.app/Contents/Resources/julia/share/julia/stdlib/v1.7/Random/src/Random.jl:140",
      " [3] rand(rng::Random.TaskLocalRNG, X::Random.SamplerTrivial{VideoIO.VideoReader{true, VideoIO.SwsTransform, String}, Any}) (repeats 2 times)",
      "   @ Random /Applications/Julia-1.7.2.app/Contents/Resources/julia/share/julia/stdlib/v1.7/Random/src/Random.jl:254",
      " [4] rand(X::VideoIO.VideoReader{true, VideoIO.SwsTransform, String})",
      "   @ Random /Applications/Julia-1.7.2.app/Contents/Resources/julia/share/julia/stdlib/v1.7/Random/src/Random.jl:259",
      " [5] top-level scope",
      "   @ In[4]:1",
      " [6] eval",
      "   @ ./boot.jl:373 [inlined]",
      " [7] include_string(mapexpr::typeof(REPL.softscope), mod::Module, code::String, filename::String)",
      "   @ Base ./loading.jl:1196"
     ]
    }
   ],
   "source": [
    "vid"
   ]
  },
  {
   "cell_type": "code",
   "execution_count": null,
   "metadata": {},
   "outputs": [],
   "source": []
  }
 ],
 "metadata": {
  "kernelspec": {
   "display_name": "Julia 1.7.2",
   "language": "julia",
   "name": "julia-1.7"
  },
  "language_info": {
   "file_extension": ".jl",
   "mimetype": "application/julia",
   "name": "julia",
   "version": "1.7.2"
  },
  "orig_nbformat": 4
 },
 "nbformat": 4,
 "nbformat_minor": 2
}
